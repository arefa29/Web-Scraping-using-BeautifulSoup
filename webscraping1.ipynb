{
 "cells": [
  {
   "cell_type": "markdown",
   "id": "110515f9-ce54-4b77-9522-7332267b5376",
   "metadata": {},
   "source": [
    "# Web Scraping using Beautiful Soup\n",
    "<hr>\n",
    "\n",
    "Web scraping refers to the automated extraction of data from a website. \n",
    "\n",
    "Beautiful Soup is a Python library for pulling data out of HTML and XML files. It works with your favorite parser to provide idiomatic ways of navigating, searching, and modifying the parse tree.\n",
    "\n",
    "Here, we scrape data about a marathon from a website using Beautiful Soup to analyze it."
   ]
  },
  {
   "cell_type": "code",
   "execution_count": 1,
   "id": "1534a5e0-978b-4c99-850a-9432d2d2c9bd",
   "metadata": {},
   "outputs": [],
   "source": [
    "import pandas as pd\n",
    "import numpy as np\n",
    "import matplotlib.pyplot as plt\n",
    "\n",
    "%matplotlib inline\n",
    "\n",
    "from urllib.request import urlopen\n",
    "from bs4 import BeautifulSoup\n",
    "import re"
   ]
  },
  {
   "cell_type": "code",
   "execution_count": 36,
   "id": "2b448050-fc25-4a57-922d-b049c4e0431f",
   "metadata": {},
   "outputs": [],
   "source": [
    "url = \"https://www.hubertiming.com/results/2018MLK\"\n",
    "html = urlopen(url)"
   ]
  },
  {
   "cell_type": "code",
   "execution_count": 37,
   "id": "239b13a1-60bd-4758-b29e-d79f34e1c01e",
   "metadata": {},
   "outputs": [],
   "source": [
    "soup = BeautifulSoup(html)"
   ]
  },
  {
   "cell_type": "code",
   "execution_count": 38,
   "id": "106fda24-265f-40d1-a497-4b9dd952d457",
   "metadata": {},
   "outputs": [
    {
     "name": "stdout",
     "output_type": "stream",
     "text": [
      "Race results for the 2018 MLK Dream Run!\n"
     ]
    }
   ],
   "source": [
    "title = soup.title\n",
    "print(title.text)"
   ]
  },
  {
   "cell_type": "code",
   "execution_count": 39,
   "id": "d034046c-7646-40e0-93f2-f18515c374f3",
   "metadata": {},
   "outputs": [
    {
     "name": "stdout",
     "output_type": "stream",
     "text": [
      "<title>Race results for the 2018 MLK Dream Run!</title>\n"
     ]
    }
   ],
   "source": [
    "print(title)"
   ]
  },
  {
   "cell_type": "code",
   "execution_count": 40,
   "id": "b10b7d78-a15a-4be6-9bff-1e0d97abfe25",
   "metadata": {},
   "outputs": [
    {
     "name": "stdout",
     "output_type": "stream",
     "text": [
      "https://www.mlkdreamrun.com/\n",
      "mailto:timing@hubertiming.com\n",
      "https://www.hubertiming.com\n",
      "/results/2018MLK10K\n",
      "/results/2018MLK15K\n",
      "/results/summary/2018MLK\n",
      "#tabs-1\n",
      "https://www.hubertiming.com/\n",
      "https://facebook.com/hubertiming/\n"
     ]
    }
   ],
   "source": [
    "links = soup.find_all('a', href=True)\n",
    "for link in links:\n",
    "    print(link['href'])"
   ]
  },
  {
   "cell_type": "code",
   "execution_count": 121,
   "id": "fa457ccb-2a88-4784-8829-8ff467c544b5",
   "metadata": {},
   "outputs": [
    {
     "name": "stdout",
     "output_type": "stream",
     "text": [
      "['191', '1216', '\\r\\n\\r\\n                    ZULMA OCHOA\\r\\n\\r\\n                ', 'F', '40', 'GRESHAM', 'OR', '33:22', '1:43:27', '\\r\\n\\r\\n                    113 of 113\\r\\n\\r\\n                ', 'F 40-54', '\\r\\n\\r\\n                    37 of 37\\r\\n\\r\\n                ', '0:00', '1:43:27']\n"
     ]
    }
   ],
   "source": [
    "data = []\n",
    "allrows = soup.find_all(\"tr\")\n",
    "for row in allrows:\n",
    "    row_list = row.find_all(\"td\")\n",
    "    dataRow=[]\n",
    "    for cell in row_list:\n",
    "        dataRow.append(cell.text)\n",
    "    data.append(dataRow)\n",
    "    \n",
    "print(dataRow)"
   ]
  },
  {
   "cell_type": "code",
   "execution_count": 122,
   "id": "8eff013d-4051-4bc0-a427-bed3d0839fb1",
   "metadata": {},
   "outputs": [
    {
     "name": "stdout",
     "output_type": "stream",
     "text": [
      "[]\n",
      "['Finishers:', '191']\n",
      "['Male:', '78']\n",
      "['Female:', '113']\n",
      "[]\n",
      "['1', '1191', 'MAX RANDOLPH', 'M', '29', 'WASHINGTON', 'DC', '5:25', '16:48', '1 of 78', 'M 21-39', '1 of 33', '0:08', '16:56']\n",
      "['2', '1080', 'NEED NAME KAISER RUNNER', 'M', '25', 'PORTLAND', 'OR', '5:39', '17:31', '2 of 78', 'M 21-39', '2 of 33', '0:09', '17:40']\n",
      "['3', '1275', 'DAN FRANEK', 'M', '52', 'PORTLAND', 'OR', '5:53', '18:15', '3 of 78', 'M 40-54', '1 of 27', '0:07', '18:22']\n",
      "['4', '1223', 'PAUL TAYLOR', 'M', '54', 'PORTLAND', 'OR', '5:58', '18:31', '4 of 78', 'M 40-54', '2 of 27', '0:07', '18:38']\n",
      "['5', '1245', 'THEO KINMAN', 'M', '22', '', '', '6:17', '19:31', '5 of 78', 'M 21-39', '3 of 33', '0:09', '19:40']\n",
      "['6', '1185', 'MELISSA GIRGIS', 'F', '27', 'PORTLAND', 'OR', '6:20', '19:39', '1 of 113', 'F 21-39', '1 of 53', '0:07', '19:46']\n",
      "['7', '1251', 'CHARLIE COGGESHALL', 'M', '39', 'PORTLAND', 'OR', '6:24', '19:51', '6 of 78', 'M 21-39', '4 of 33', '0:10', '20:01']\n",
      "['8', '1154', 'UNKNOWN RUNNER SEE TIMER', 'M', '', '', '', '8:03', '24:58', '7 of 78', '', '1 of 9', '2:00', '26:58']\n",
      "['9', '1163', 'UNKNOWN RUNNER SEE TIMER', 'M', '', '', '', '8:04', '25:01', '8 of 78', '', '2 of 9', '1:59', '27:00']\n",
      "['10', '1242', 'KIMONTI WILSON', 'F', '48', '', '', '8:04', '25:01', '2 of 113', 'F 40-54', '1 of 37', '1:59', '27:00']\n",
      "['11', '1017', 'COREY MCMANUS', 'M', '37', 'BEAVERTON', 'OR', '8:09', '25:17', '9 of 78', 'M 21-39', '5 of 33', '0:22', '25:39']\n",
      "['12', '1112', 'MITCHELL JOHNSON', 'M', '25', 'PORTLAND', 'OR', '8:13', '25:31', '10 of 78', 'M 21-39', '6 of 33', '0:15', '25:46']\n",
      "['13', '1062', 'ALEX KABA', 'M', '36', 'PORTLAND', 'OR', '8:14', '25:31', '11 of 78', 'M 21-39', '7 of 33', '0:14', '25:45']\n",
      "['14', '1227', 'ROBYN MCGILLIS', 'F', '44', 'PORTLAND', 'OR', '8:18', '25:44', '3 of 113', 'F 40-54', '2 of 37', '0:08', '25:52']\n",
      "['15', '1067', 'MITCHELL WARDEN', 'M', '29', 'PORTLAND', 'OR', '8:19', '25:46', '12 of 78', 'M 21-39', '8 of 33', '0:14', '26:00']\n",
      "['16', '1136', 'JULIA METZ', 'F', '32', 'PORTLAND', 'OR', '8:33', '26:31', '4 of 113', 'F 21-39', '2 of 53', '0:33', '27:04']\n",
      "['17', '1199', 'JEREMY AREZZINI', 'M', '38', 'LAKE OSWEGO', 'OR', '8:37', '26:44', '13 of 78', 'M 21-39', '9 of 33', '0:41', '27:25']\n",
      "['18', '1252', 'ETHAN POWELL', 'M', '', '', '', '8:40', '26:52', '14 of 78', '', '3 of 9', '0:11', '27:03']\n",
      "['19', '1231', 'TIMOTHY KEARNEY', 'M', '42', 'PORTLAND', 'OR', '8:42', '26:58', '15 of 78', 'M 40-54', '3 of 27', '0:11', '27:09']\n",
      "['20', '1108', 'TIMOTHY RINGERING', 'M', '50', 'VANCOUVER', 'WA', '8:43', '27:02', '16 of 78', 'M 40-54', '4 of 27', '0:10', '27:12']\n",
      "['21', '1118', 'PONTUS JADERHOLM', 'M', '43', 'PORTLAND', 'OR', '8:45', '27:08', '17 of 78', 'M 40-54', '5 of 27', '0:13', '27:21']\n",
      "['22', '1246', 'KERRY FLAGG', 'M', '', '', '', '8:45', '27:10', '18 of 78', '', '4 of 9', '0:10', '27:20']\n",
      "['23', '1244', 'JARRED FLAGG', 'M', '', '', '', '8:46', '27:11', '19 of 78', '', '5 of 9', '0:10', '27:21']\n",
      "['24', '1224', 'KEN SKEEN', 'M', '57', 'PORTLAND', 'OR', '8:46', '27:12', '20 of 78', 'M 55+', '1 of 5', '0:18', '27:30']\n",
      "['25', '1065', 'SARA KOPTON', 'F', '40', 'PORTLAND', 'OR', '8:51', '27:27', '5 of 113', 'F 40-54', '3 of 37', '0:20', '27:47']\n",
      "['26', '1274', 'KAISER GUEST', 'F', '40', 'PORTLAND', 'OR', '8:54', '27:37', '6 of 113', 'F 40-54', '4 of 37', '0:09', '27:46']\n",
      "['27', '1208', 'JUSTIN PERZ', 'M', '33', 'PORTLAND', 'OR', '8:55', '27:39', '21 of 78', 'M 21-39', '10 of 33', '0:38', '28:17']\n",
      "['28', '1072', 'ESTELA SÁNCHEZ', 'F', '41', 'PORTLAND', 'OR', '8:57', '27:45', '7 of 113', 'F 40-54', '5 of 37', '0:08', '27:53']\n",
      "['29', '1018', 'JASON WILLIAMS', 'M', '41', 'PORTLAND', 'OR', '8:58', '27:50', '22 of 78', 'M 40-54', '6 of 27', '0:23', '28:13']\n",
      "['30', '1297', 'ADRIANA BRITTON', 'F', '53', 'PORTLAND', 'OR', '9:00', '27:54', '8 of 113', 'F 40-54', '6 of 37', '0:12', '28:06']\n",
      "['31', '1117', 'MARK WOOD', 'M', '43', 'PORTLAND', 'OR', '9:03', '28:05', '23 of 78', 'M 40-54', '7 of 27', '0:30', '28:35']\n",
      "['32', '1201', 'STEVE CRANDELL', 'M', '61', 'PORTLAND', 'OR', '9:03', '28:06', '24 of 78', 'M 55+', '2 of 5', '0:09', '28:15']\n",
      "['33', '1110', 'DARRELL KRIECHBAUM', 'M', '53', 'PORTLAND', 'OR', '9:05', '28:11', '25 of 78', 'M 40-54', '8 of 27', '0:12', '28:23']\n",
      "['34', '1104', 'JANICE JACOBS', 'F', '55', 'SALEM', 'OR', '9:05', '28:11', '9 of 113', 'F 55+', '1 of 14', '0:15', '28:26']\n",
      "['35', '1300', 'CORY ANDERSON', 'M', '30', 'PORTLAND', 'OR', '9:06', '28:14', '26 of 78', 'M 21-39', '11 of 33', '0:19', '28:33']\n",
      "['36', '1238', 'PAUL SUMMERS', 'M', '24', 'PORTLAND', 'OR', '9:08', '28:21', '27 of 78', 'M 21-39', '12 of 33', '0:15', '28:36']\n",
      "['37', '1298', 'ALEX NGUYEN', 'M', '26', '', '', '9:09', '28:22', '28 of 78', 'M 21-39', '13 of 33', '0:19', '28:41']\n",
      "['38', '1157', 'JEREMY SWEET', 'M', '27', 'PORTLAND', 'OR', '9:12', '28:32', '29 of 78', 'M 21-39', '14 of 33', '0:20', '28:52']\n",
      "['39', '1106', 'DANIEL JOHNSTON', 'M', '43', 'PORTLAND', 'OR', '9:12', '28:32', '30 of 78', 'M 40-54', '9 of 27', '0:12', '28:44']\n",
      "['40', '1196', 'LIZANN DUNEGAN', 'F', '53', 'PORTLAND', 'OR', '9:13', '28:34', '10 of 113', 'F 40-54', '7 of 37', '0:14', '28:48']\n",
      "['41', '1239', 'ALYX WYNN', 'F', '28', 'PORTLAND', 'OR', '9:14', '28:37', '11 of 113', 'F 21-39', '3 of 53', '0:21', '28:58']\n",
      "['42', '1087', 'YALOUNDA HUNT', 'F', '60', 'PORTLAND', 'OR', '9:14', '28:40', '12 of 113', 'F 55+', '2 of 14', '0:09', '28:49']\n",
      "['43', '1068', 'SERGIO RIVERA', 'M', '32', 'PORTLAND', 'OR', '9:15', '28:41', '31 of 78', 'M 21-39', '15 of 33', '0:21', '29:02']\n",
      "['44', '1071', 'PEDRO FLORES', 'M', '42', 'PORTLAND', 'OR', '9:15', '28:42', '32 of 78', 'M 40-54', '10 of 27', '0:08', '28:50']\n",
      "['45', '1159', 'JEFF DOWNEY', 'M', '36', 'PORTLAND', 'OR', '9:15', '28:42', '33 of 78', 'M 21-39', '16 of 33', '0:19', '29:01']\n",
      "['46', '1241', 'NICK SCHUDER', 'M', '44', 'PORTLAND', 'OR', '9:16', '28:45', '34 of 78', 'M 40-54', '11 of 27', '0:18', '29:03']\n",
      "['47', '1023', 'JOHN GARDNER', 'M', '44', 'PORTLAND', 'OR', '9:18', '28:51', '35 of 78', 'M 40-54', '12 of 27', '0:25', '29:16']\n",
      "['48', '1253', 'JAZMIN BEMBRY', 'F', '23', 'PORTLAND', 'OR', '9:20', '28:56', '13 of 113', 'F 21-39', '4 of 53', '0:15', '29:11']\n",
      "['49', '1247', 'THEO KINWAN', 'F', '', '', '', '9:24', '29:09', '14 of 113', '', '6 of 9', '0:10', '29:19']\n",
      "['50', '1019', 'ERIKA TURNEY', 'F', '46', 'BATTLE GROUNDB', 'WA', '9:24', '29:10', '15 of 113', 'F 40-54', '8 of 37', '0:24', '29:34']\n",
      "['51', '1066', 'MICHELLE FRAZIER', 'F', '27', 'PORTLAND', 'OR', '9:25', '29:12', '16 of 113', 'F 21-39', '5 of 53', '0:13', '29:25']\n",
      "['52', '1151', 'CHRISTINA LECHER', 'F', '31', 'MILWAUKEE', 'WI', '9:28', '29:21', '17 of 113', 'F 21-39', '6 of 53', '0:18', '29:39']\n",
      "['53', '1152', 'BERNARD RAHMING', 'M', '31', 'PORTLAND', 'OR', '9:28', '29:21', '36 of 78', 'M 21-39', '17 of 33', '0:18', '29:39']\n",
      "['54', '1095', 'TROY PICKARD', 'M', '36', 'PORTLAND', 'OR', '9:28', '29:22', '37 of 78', 'M 21-39', '18 of 33', '0:44', '30:06']\n",
      "['55', '1028', 'JONATHAN TILLMAN', 'M', '49', 'PORTLAND', 'OR', '9:28', '29:23', '38 of 78', 'M 40-54', '13 of 27', '0:24', '29:47']\n",
      "['56', '1174', 'CYNJAYSHA BOLES', 'F', '26', 'PORTLAND', 'OR', '9:36', '29:46', '18 of 113', 'F 21-39', '7 of 53', '0:09', '29:55']\n",
      "['57', '1013', 'TERESA MCGRATH', 'F', '65', 'PORTLAND', 'OR', '9:37', '29:51', '19 of 113', 'F 55+', '3 of 14', '0:10', '30:01']\n",
      "['58', '1237', 'ERYN HOERSTER', 'F', '37', 'PORTLAND', 'OR', '9:53', '30:41', '20 of 113', 'F 21-39', '8 of 53', '0:40', '31:21']\n",
      "['59', '1230', 'EDUARDO ARIZAGA', 'M', '38', 'PORTLAND', 'OR', '9:58', '30:55', '39 of 78', 'M 21-39', '19 of 33', '0:47', '31:42']\n",
      "['60', '1236', 'BEN HOERSTER', 'M', '37', 'PORTLAND', 'OR', '10:09', '31:29', '40 of 78', 'M 21-39', '20 of 33', '0:43', '32:12']\n",
      "['61', '1125', 'ABIGAIL VAN GELDER', 'F', '36', 'PORTLAND', 'OR', '10:12', '31:37', '21 of 113', 'F 21-39', '9 of 53', '0:16', '31:53']\n",
      "['62', '1053', 'DAMIANA KING', 'F', '38', 'PORTLAND', 'OR', '10:20', '32:02', '22 of 113', 'F 21-39', '10 of 53', '0:12', '32:14']\n",
      "['63', '1010', 'HEATHER CERMAK', 'F', '29', 'PORTLAND', 'OR', '10:23', '32:11', '23 of 113', 'F 21-39', '11 of 53', '0:41', '32:52']\n",
      "['64', '1011', 'COLE CHRIST', 'M', '19', 'PORTLAND', 'OR', '10:23', '32:11', '41 of 78', 'M 20 and Under', '1 of 7', '0:42', '32:53']\n",
      "['65', '1179', 'MIRIAN HINOJOSA', 'F', '40', 'MILWAUKIE', 'OR', '10:34', '32:48', '24 of 113', 'F 40-54', '9 of 37', '0:14', '33:02']\n",
      "['66', '1183', 'CAMERON SEIDLING', 'M', '28', 'PORTLAND', 'OR', '10:44', '33:16', '42 of 78', 'M 21-39', '21 of 33', '0:37', '33:53']\n",
      "['67', '1137', 'LARRY JENKINS', 'M', '31', 'PORTLAND', 'OR', '10:44', '33:16', '43 of 78', 'M 21-39', '22 of 33', '0:34', '33:50']\n",
      "['68', '1173', 'ALYS MEYER', 'F', '12', 'PORTLAND', 'OR', '10:49', '33:33', '25 of 113', 'F 20 and Under', '1 of 6', '0:27', '34:00']\n",
      "['69', '1103', 'SARAH MEYER', 'F', '34', 'PORTLAND', 'OR', '10:50', '33:36', '26 of 113', 'F 21-39', '12 of 53', '0:26', '34:02']\n",
      "['70', '1100', 'ELIZABETH TAYLOR', 'F', '39', 'PORTLAND', 'OR', '10:51', '33:40', '27 of 113', 'F 21-39', '13 of 53', '0:37', '34:17']\n",
      "['71', '1190', 'RICARDO BARRERA', 'M', '45', 'PORTLAND', 'OR', '10:58', '34:00', '44 of 78', 'M 40-54', '14 of 27', '0:29', '34:29']\n",
      "['72', '1127', 'MOIRA SHERRY', 'F', '24', 'PORTLAND', 'OR', '11:02', '34:14', '28 of 113', 'F 21-39', '14 of 53', '0:19', '34:33']\n",
      "['73', '1299', 'BRYNDON COUGHLIN', 'M', '27', 'PORTLAND', 'OR', '11:03', '34:16', '45 of 78', 'M 21-39', '23 of 33', '0:44', '35:00']\n",
      "['74', '1261', 'CHADI BOTRNS', 'M', '', '', '', '11:04', '34:19', '46 of 78', '', '7 of 9', '0:30', '34:49']\n",
      "['75', '1006', 'HELEN SHARP', 'F', '53', 'FOREST GROVE', 'OR', '11:08', '34:32', '29 of 113', 'F 40-54', '10 of 37', '0:16', '34:48']\n",
      "['76', '1165', 'CLAYTON BELL', 'M', '40', 'PORTLAND', 'OR', '11:10', '34:38', '47 of 78', 'M 40-54', '15 of 27', '0:18', '34:56']\n",
      "['77', '1219', 'PATRICIA ENGLE', 'F', '43', 'PORTLAND', 'OR', '11:11', '34:42', '30 of 113', 'F 40-54', '11 of 37', '0:30', '35:12']\n",
      "['78', '1200', 'BEN KLEVIT', 'M', '53', 'LAKE OSWEGO', 'OR', '11:13', '34:49', '48 of 78', 'M 40-54', '16 of 27', '0:39', '35:28']\n",
      "['79', '1132', 'KAYLEN GIBBENS', 'F', '41', 'HILLSBORO', 'OR', '11:15', '34:54', '31 of 113', 'F 40-54', '12 of 37', '0:20', '35:14']\n",
      "['80', '1122', 'AUGUST EPSTEIN', 'M', '26', 'PORTLAND', 'OR', '11:36', '35:57', '49 of 78', 'M 21-39', '24 of 33', '0:12', '36:09']\n",
      "['81', '1121', 'SAMANTHA PINKERTON', 'F', '26', 'PORTLAND', 'OR', '11:36', '35:58', '32 of 113', 'F 21-39', '15 of 53', '0:12', '36:10']\n",
      "['82', '1107', 'NICOLE SCHULMERICH', 'F', '33', 'PORTLAND', 'OR', '11:40', '36:10', '33 of 113', 'F 21-39', '16 of 53', '0:27', '36:37']\n",
      "['83', '1056', 'MARYJANE YACOBY', 'F', '35', 'VANCOUVER', 'WA', '11:54', '36:53', '34 of 113', 'F 21-39', '17 of 53', '0:22', '37:15']\n",
      "['84', '1057', 'JOEL YACOBY', 'M', '40', 'VANCOUVER', 'WA', '11:54', '36:56', '50 of 78', 'M 40-54', '17 of 27', '0:22', '37:18']\n",
      "['85', '1055', 'JILL TIMSHEL', 'F', '39', 'BATTLE GROUND', 'WA', '11:55', '36:56', '35 of 113', 'F 21-39', '18 of 53', '0:23', '37:19']\n",
      "['86', '1022', 'CHRISTIE VANG', 'F', '32', 'PORTLAND', 'OR', '11:57', '37:02', '36 of 113', 'F 21-39', '19 of 53', '0:29', '37:31']\n",
      "['87', '1192', 'JUNE REYES', 'F', '30', 'PORTLAND', 'OR', '12:02', '37:18', '37 of 113', 'F 21-39', '20 of 53', '0:20', '37:38']\n",
      "['88', '1078', 'FRED SMITH', 'M', '46', 'PORTLAND', 'OR', '12:17', '38:06', '51 of 78', 'M 40-54', '18 of 27', '0:18', '38:24']\n",
      "['89', '1077', 'BRIANNA MILLER', 'F', '25', 'PORTLAND', 'OR', '12:20', '38:15', '38 of 113', 'F 21-39', '21 of 53', '0:26', '38:41']\n",
      "['90', '1073', 'RAÚL ROMERO', 'M', '42', 'PORTLAND', 'OR', '12:23', '38:23', '52 of 78', 'M 40-54', '19 of 27', '0:00', '38:23']\n",
      "['91', '1134', 'AMANDA MATLIN', 'F', '36', 'PORTLAND', 'OR', '12:40', '39:17', '39 of 113', 'F 21-39', '22 of 53', '0:35', '39:52']\n",
      "['92', '1096', 'SHAYLA VELASQUEZ', 'F', '28', 'TROUTDALEUTDALE', 'OR', '12:40', '39:18', '40 of 113', 'F 21-39', '23 of 53', '0:26', '39:44']\n",
      "['93', '1195', 'PEYTON VELASQUEZ', 'M', '9', 'TROUTDALEUTDALE', 'OR', '12:40', '39:18', '53 of 78', 'M 20 and Under', '2 of 7', '0:26', '39:44']\n",
      "['94', '1176', 'JOSHUA BRUNO', 'M', '40', 'PORTLAND', 'OR', '12:41', '39:20', '54 of 78', 'M 40-54', '20 of 27', '0:33', '39:53']\n",
      "['95', '1064', 'DANIALE LYNCH', 'F', '39', 'PORTLAND', 'OR', '12:44', '39:28', '41 of 113', 'F 21-39', '24 of 53', '0:22', '39:50']\n",
      "['96', '1189', 'SHAYLA TURNER', 'F', '33', 'PORTLAND', 'OR', '12:44', '39:30', '42 of 113', 'F 21-39', '25 of 53', '0:18', '39:48']\n",
      "['97', '1177', 'MELITA LYNCH', 'F', '22', 'PORTLAND', 'OR', '12:52', '39:55', '43 of 113', 'F 21-39', '26 of 53', '0:23', '40:18']\n",
      "['98', '1178', 'DEVON WONG', 'M', '26', 'PORTLAND', 'OR', '12:52', '39:55', '55 of 78', 'M 21-39', '25 of 33', '0:23', '40:18']\n",
      "['99', '1184', 'KELLY BUCHANAN', 'F', '28', 'PORTLAND', 'OR', '12:55', '40:03', '44 of 113', 'F 21-39', '27 of 53', '0:36', '40:39']\n",
      "['100', '1029', 'MOLLI MITCHELL', 'F', '36', 'PORTLAND', 'OR', '13:01', '40:21', '45 of 113', 'F 21-39', '28 of 53', '0:30', '40:51']\n",
      "['101', '1158', 'JAYMES LATIMER', 'M', '27', 'PORTLAND', 'OR', '13:10', '40:50', '56 of 78', 'M 21-39', '26 of 33', '0:19', '41:09']\n",
      "['102', '1296', 'SUE ANN HIGGENS', 'F', '57', 'PORTLAND', 'OR', '13:18', '41:15', '46 of 113', 'F 55+', '4 of 14', '0:17', '41:32']\n",
      "['103', '1020', 'NAT KIM', 'F', '38', 'PORTLAND', 'OR', '13:20', '41:21', '47 of 113', 'F 21-39', '29 of 53', '0:10', '41:31']\n",
      "['104', '1052', 'BETH BOGDEWIECZ', 'F', '37', 'PORTLAND', 'OR', '13:29', '41:50', '48 of 113', 'F 21-39', '30 of 53', '0:27', '42:17']\n",
      "['105', '1051', 'AMBER BOGDEWIECZ', 'F', '38', 'PORTLAND', 'OR', '13:29', '41:50', '49 of 113', 'F 21-39', '31 of 53', '0:27', '42:17']\n",
      "['106', '1069', 'PAM CROW', 'F', '61', 'PORTLAND', 'OR', '13:34', '42:04', '50 of 113', 'F 55+', '5 of 14', '0:23', '42:27']\n",
      "['107', '1076', 'MARLON BROUSSARD', 'M', '47', 'PORTLAND', 'OR', '13:39', '42:21', '57 of 78', 'M 40-54', '21 of 27', '0:19', '42:40']\n",
      "['108', '1070', 'HAILEI ABERSON', 'F', '23', 'PORTLAND', 'OR', '13:52', '43:01', '51 of 113', 'F 21-39', '32 of 53', '0:24', '43:25']\n",
      "['109', '1166', 'GRACE MCBARRON', 'F', '23', 'PORTLAND', 'OR', '13:52', '43:01', '52 of 113', 'F 21-39', '33 of 53', '0:25', '43:26']\n",
      "['110', '1164', 'AMIYAH HOLFORD', 'F', '15', 'PORTLAND', 'OR', '13:54', '43:07', '53 of 113', 'F 20 and Under', '2 of 6', '0:25', '43:32']\n",
      "['111', '1222', 'KENNETH MARSHALL', 'M', '26', 'VANCOUVER', 'WA', '13:58', '43:20', '58 of 78', 'M 21-39', '27 of 33', '0:11', '43:31']\n",
      "['112', '1097', 'VERNA MARSHALL', 'F', '64', 'CAMAS', 'WA', '13:59', '43:20', '54 of 113', 'F 55+', '6 of 14', '0:12', '43:32']\n",
      "['113', '1101', 'ERIN SCHWARZ', 'F', '29', 'PORTLAND', 'OR', '14:08', '43:50', '55 of 113', 'F 21-39', '34 of 53', '0:37', '44:27']\n",
      "['114', '1144', 'KIMBERLEY JACKSON', 'F', '51', 'PORTLAND', 'OR', '14:26', '44:46', '56 of 113', 'F 40-54', '13 of 37', '0:32', '45:18']\n",
      "['115', '1007', 'KYLE NEWELL', 'M', '57', 'PORTLAND', 'OR', '14:30', '44:58', '59 of 78', 'M 55+', '3 of 5', '0:31', '45:29']\n",
      "['116', '1229', 'KAREN FOSTER', 'F', '39', 'PORTLAND', 'OR', '14:32', '45:06', '57 of 113', 'F 21-39', '35 of 53', '0:13', '45:19']\n",
      "['117', '1005', 'DELIA GRENVILLE', 'F', '52', 'PORTLAND', 'OR', '14:34', '45:10', '58 of 113', 'F 40-54', '14 of 37', '0:15', '45:25']\n",
      "['118', '1295', 'THOMAS RUKS', 'M', '50', 'PORTLAND', 'OR', '14:36', '45:15', '60 of 78', 'M 40-54', '22 of 27', '0:37', '45:52']\n",
      "['119', '1054', 'TRACY BOWLES', 'F', '38', 'PORTLAND', 'OR', '14:55', '46:17', '59 of 113', 'F 21-39', '36 of 53', '0:23', '46:40']\n",
      "['120', '1262', 'KARI SCHLINKMEIER', 'F', '', '', '', '15:18', '47:28', '60 of 113', '', '8 of 9', '0:13', '47:41']\n",
      "['121', '1024', 'CINZIA CORIO-HOLMAN', 'F', '52', 'PORTLAND', 'OR', '15:22', '47:41', '61 of 113', 'F 40-54', '15 of 37', '0:23', '48:04']\n",
      "['122', '1088', 'GALEN HARDEN', 'M', '52', 'PORTLAND', '', '15:27', '47:56', '61 of 78', 'M 40-54', '23 of 27', '0:17', '48:13']\n",
      "['123', '1059', 'AMIYAH BERRY', 'F', '9', 'PORTLAND', 'OR', '15:29', '48:00', '62 of 113', 'F 20 and Under', '3 of 6', '0:31', '48:31']\n",
      "['124', '1014', 'DESIREE VIELMETTI', 'F', '34', 'PORTLAND', 'OR', '15:29', '48:02', '63 of 113', 'F 21-39', '37 of 53', '0:29', '48:31']\n",
      "['125', '1015', 'BRITTANY BERRY HILL', 'F', '29', 'PORTLAND', 'OR', '15:30', '48:03', '64 of 113', 'F 21-39', '38 of 53', '0:31', '48:34']\n",
      "['126', '1035', 'JESSE CHRISTENSON', 'M', '37', 'PORTLAND', 'OR', '15:31', '48:07', '62 of 78', 'M 21-39', '28 of 33', '0:30', '48:37']\n",
      "['127', '1172', 'LOUISE MOROZ', 'F', '48', 'PEORIA', 'AZ', '15:37', '48:26', '65 of 113', 'F 40-54', '16 of 37', '0:44', '49:10']\n",
      "['128', '1012', 'MEREDITH BOWIE', 'F', '37', 'SHERWOOD', 'OR', '15:38', '48:28', '66 of 113', 'F 21-39', '39 of 53', '0:43', '49:11']\n",
      "['129', '1248', 'TERI UNTALAN', 'F', '51', 'PORTLAND', 'OR', '15:54', '49:20', '67 of 113', 'F 40-54', '17 of 37', '0:27', '49:47']\n",
      "['130', '1249', 'SAM MCKINSTRY', 'M', '33', 'PORTLAND', 'OR', '15:54', '49:20', '63 of 78', 'M 21-39', '29 of 33', '0:26', '49:46']\n",
      "['131', '1131', 'MARGARET PETERSEN', 'F', '13', 'VANCOUVER', 'WA', '16:33', '51:20', '68 of 113', 'F 20 and Under', '4 of 6', '0:36', '51:56']\n",
      "['132', '1188', 'BARBARA WOODFORD', 'F', '65', 'PORTLAND', 'OR', '16:33', '51:21', '69 of 113', 'F 55+', '7 of 14', '0:39', '52:00']\n",
      "['133', '1130', 'DAVID PETERSEN', 'M', '43', 'VANCOUVER', 'WA', '16:34', '51:21', '64 of 78', 'M 40-54', '24 of 27', '0:36', '51:57']\n",
      "['134', '1187', 'TOM KELLY', 'M', '67', 'PORTLAND', 'OR', '16:35', '51:24', '65 of 78', 'M 55+', '4 of 5', '0:38', '52:02']\n",
      "['135', '1039', 'BRIONA HILL', 'F', '21', 'PORTLAND', 'OR', '16:38', '51:36', '70 of 113', 'F 21-39', '40 of 53', '0:32', '52:08']\n",
      "['136', '1044', 'MICHELE CRUSE', 'F', '45', 'VANCOUVER', 'WA', '16:41', '51:43', '71 of 113', 'F 40-54', '18 of 37', '0:34', '52:17']\n",
      "['137', '1045', 'MICHAEL CRUSE', 'F', '51', 'VANCOUVER', 'WA', '16:52', '52:18', '72 of 113', 'F 40-54', '19 of 37', '0:36', '52:54']\n",
      "['138', '1141', 'ALLYSON PRENTICE', 'F', '56', 'GLADSTONE', 'OR', '17:05', '52:58', '73 of 113', 'F 55+', '8 of 14', '0:19', '53:17']\n",
      "['139', '1140', 'DAPHNE TENNYSON', 'F', '30', 'PORTLAND', 'OR', '17:05', '52:59', '74 of 113', 'F 21-39', '41 of 53', '0:20', '53:19']\n",
      "['140', '1198', 'BRITTANY MASHIA', 'F', '23', 'PORTLAND', 'OR', '17:10', '53:13', '75 of 113', 'F 21-39', '42 of 53', '0:38', '53:51']\n",
      "['141', '1214', 'AVERY WIESLER', 'M', '11', '', '', '17:15', '53:30', '66 of 78', 'M 20 and Under', '3 of 7', '0:32', '54:02']\n",
      "['142', '1215', 'ELISE HENDRICKSON', 'F', '48', '', '', '17:15', '53:31', '76 of 113', 'F 40-54', '20 of 37', '0:31', '54:02']\n",
      "['143', '1133', 'AJIANNAH TURNER', 'F', '13', 'PORTLAND', 'OR', '17:16', '53:33', '77 of 113', 'F 20 and Under', '5 of 6', '0:28', '54:01']\n",
      "['144', '1250', 'KIM ONTI WILSON', 'F', '', '', '', '17:42', '54:53', '78 of 113', '', '9 of 9', '0:13', '55:06']\n",
      "['145', '1228', 'KAMELAH ADAMS', 'F', '38', 'PORTLAND', 'OR', '17:43', '54:55', '79 of 113', 'F 21-39', '43 of 53', '0:13', '55:08']\n",
      "['146', '1243', 'KATHY RUSSELL', 'F', '60', 'PORTLAND', 'OR', '17:51', '55:22', '80 of 113', 'F 55+', '9 of 14', '0:17', '55:39']\n",
      "['147', '1060', 'KARIN PRICE', 'F', '38', 'VANCOUVER', 'WA', '18:28', '57:16', '81 of 113', 'F 21-39', '44 of 53', '0:32', '57:48']\n",
      "['148', '1009', 'PATRICIA SNYDER', 'F', '73', 'GLADSTONE', 'OR', '18:51', '58:27', '82 of 113', 'F 55+', '10 of 14', '0:34', '59:01']\n",
      "['149', '1008', 'SANDIE KIEHL', 'F', '71', 'GLADSTONE', 'OR', '18:51', '58:28', '83 of 113', 'F 55+', '11 of 14', '0:34', '59:02']\n",
      "['150', '1218', 'JESSIE RICKER', 'F', '33', 'PORTLAND', 'OR', '19:08', '59:20', '84 of 113', 'F 21-39', '45 of 53', '0:36', '59:56']\n",
      "['151', '1217', 'LETICIA FOWLER', 'F', '34', 'PORTLAND', 'OR', '19:09', '59:22', '85 of 113', 'F 21-39', '46 of 53', '0:35', '59:57']\n",
      "['152', '1206', 'LISA WILLIAMS', 'F', '48', 'PORTLAND', 'OR', '19:20', '59:58', '86 of 113', 'F 40-54', '21 of 37', '0:33', '1:00:31']\n",
      "['153', '1205', 'ANDREA DEBNAM', 'F', '45', 'PORTLAND', 'OR', '19:21', '1:00:01', '87 of 113', 'F 40-54', '22 of 37', '0:32', '1:00:33']\n",
      "['154', '1147', 'KYM USSING', 'F', '47', 'PORTLAND', 'OR', '19:23', '1:00:08', '88 of 113', 'F 40-54', '23 of 37', '0:29', '1:00:37']\n",
      "['155', '1129', 'HEATHER ROSENTHAL', 'F', '53', 'PORTLAND', 'OR', '19:24', '1:00:09', '89 of 113', 'F 40-54', '24 of 37', '0:27', '1:00:36']\n",
      "['156', '1211', 'ARMISSA LYLES', 'F', '44', 'GRESHAM', 'OR', '19:26', '1:00:16', '90 of 113', 'F 40-54', '25 of 37', '0:22', '1:00:38']\n",
      "['157', '1210', 'ANGELA PLEDGER', 'F', '49', 'GRESHAM', 'OR', '19:26', '1:00:17', '91 of 113', 'F 40-54', '26 of 37', '0:21', '1:00:38']\n",
      "['158', '1091', 'CARLOS LASUNCET', 'M', '44', 'BEAVERTON', '', '19:29', '1:00:24', '67 of 78', 'M 40-54', '25 of 27', '0:42', '1:01:06']\n",
      "['159', '1093', 'MARISOL LASUNCET', 'M', '9', '', '', '19:29', '1:00:24', '68 of 78', 'M 20 and Under', '4 of 7', '0:41', '1:01:05']\n",
      "['160', '1092', 'DAWNNESHA LASUNCET', 'F', '43', '', '', '19:30', '1:00:27', '92 of 113', 'F 40-54', '27 of 37', '0:40', '1:01:07']\n",
      "['161', '1109', 'JACQUELINE PAUL', 'F', '47', 'PORTLAND', 'OR', '19:36', '1:00:46', '93 of 113', 'F 40-54', '28 of 37', '0:17', '1:01:03']\n",
      "['162', '1138', 'KAYLA PAUL', 'F', '27', 'PORTLAND', 'OR', '19:36', '1:00:48', '94 of 113', 'F 21-39', '47 of 53', '0:17', '1:01:05']\n",
      "['163', '1259', 'RICO GARCIA', 'M', '17', '', '', '19:36', '1:00:48', '69 of 78', 'M 20 and Under', '5 of 7', '0:29', '1:01:17']\n",
      "['164', '1258', 'CARLOS GARCIA', 'M', '15', '', '', '19:37', '1:00:51', '70 of 78', 'M 20 and Under', '6 of 7', '0:24', '1:01:15']\n",
      "['165', '1260', 'PEPE GARCIA', 'M', '20', 'PORTLAND', 'OR', '19:37', '1:00:51', '71 of 78', 'M 20 and Under', '7 of 7', '0:29', '1:01:20']\n",
      "['166', '1255', 'NAYANA GARCIA', 'F', '11', 'PORTLAND', 'OR', '19:38', '1:00:53', '95 of 113', 'F 20 and Under', '6 of 6', '0:26', '1:01:19']\n",
      "['167', '1235', 'MICHONNÈ GAMBLE-RIVERS', 'F', '33', 'TIGARD', 'OR', '19:53', '1:01:40', '96 of 113', 'F 21-39', '48 of 53', '0:34', '1:02:14']\n",
      "['168', '1021', 'TALITHA SINGHAI', 'F', '53', 'PORTLAND', 'OR', '19:54', '1:01:43', '97 of 113', 'F 40-54', '29 of 37', '0:50', '1:02:33']\n",
      "['169', '1143', 'DIANE BRANDSMA', 'F', '53', 'BEAVERTON', 'OR', '19:56', '1:01:49', '98 of 113', 'F 40-54', '30 of 37', '0:44', '1:02:33']\n",
      "['170', '1234', 'LINDSAY HARRIS', 'F', '30', 'TIGARD', 'OR', '19:57', '1:01:50', '99 of 113', 'F 21-39', '49 of 53', '0:35', '1:02:25']\n",
      "['171', '1233', 'WILLIE MURPHY', 'M', '68', '', '', '20:00', '1:02:00', '72 of 78', 'M 55+', '5 of 5', '0:28', '1:02:28']\n",
      "['172', '1194', 'MICHELLE BENTON', 'F', '33', 'PORTLAND', 'OR', '20:00', '1:02:01', '100 of 113', 'F 21-39', '50 of 53', '0:39', '1:02:40']\n",
      "['173', '1232', 'WAYNE MURPHY', 'M', '54', '', '', '20:00', '1:02:01', '73 of 78', 'M 40-54', '26 of 27', '0:29', '1:02:30']\n",
      "['174', '1256', 'NICOLE GARCIA', 'F', '37', 'PORTLAND', 'OR', '20:00', '1:02:03', '101 of 113', 'F 21-39', '51 of 53', '0:26', '1:02:29']\n",
      "['175', '1193', 'SHEILA RANDALL', 'F', '47', 'PORTLAND', 'OR', '20:01', '1:02:03', '102 of 113', 'F 40-54', '31 of 37', '0:39', '1:02:42']\n",
      "['176', '1171', 'NEAL BROWN', 'M', '36', 'PORTLAND', 'OR', '20:06', '1:02:19', '74 of 78', 'M 21-39', '30 of 33', '0:15', '1:02:34']\n",
      "['177', '1257', 'JOSE GARCIA', 'M', '38', 'PORTLAND', 'OR', '20:07', '1:02:24', '75 of 78', 'M 21-39', '31 of 33', '0:26', '1:02:50']\n",
      "['178', '1099', 'CARLOS BANKS', 'M', '40', 'PORTLAND', 'OR', '20:14', '1:02:45', '76 of 78', 'M 40-54', '27 of 27', '0:14', '1:02:59']\n",
      "['179', '1220', 'LISA CHURCH', 'F', '44', 'RIDGEFIELD', 'WA', '20:14', '1:02:46', '103 of 113', 'F 40-54', '32 of 37', '0:35', '1:03:21']\n",
      "['180', '1221', 'ELAINE MYRICK', 'F', '50', 'RIDGEFIELD', 'WA', '20:15', '1:02:47', '104 of 113', 'F 40-54', '33 of 37', '0:35', '1:03:22']\n",
      "['181', '1113', 'RICHARD LAWSON', 'M', '31', 'HILLSBORO', 'OR', '20:18', '1:02:58', '77 of 78', 'M 21-39', '32 of 33', '0:29', '1:03:27']\n",
      "['182', '1114', 'TRISHA HUTESON', 'F', '46', 'VANCOUVER', 'WA', '20:20', '1:03:04', '105 of 113', 'F 40-54', '34 of 37', '0:24', '1:03:28']\n",
      "['183', '1240', 'GEANIE ROBINSON', 'F', '60', '', '', '20:46', '1:04:23', '106 of 113', 'F 55+', '12 of 14', '0:32', '1:04:55']\n",
      "['184', '1098', 'MICHELLE HOFFMAN', 'F', '46', 'EVERETT', 'WA', '20:59', '1:05:03', '107 of 113', 'F 40-54', '35 of 37', '0:30', '1:05:33']\n",
      "['185', '1119', 'SANDY PAGE', 'F', '66', 'PORTLAND', 'OR', '20:59', '1:05:04', '108 of 113', 'F 55+', '13 of 14', '0:30', '1:05:34']\n",
      "['186', '1116', 'CHRISTINA TURNER', 'F', '39', 'PORTLAND', 'OR', '21:01', '1:05:09', '109 of 113', 'F 21-39', '52 of 53', '0:28', '1:05:37']\n",
      "['187', '1254', 'CYNTHIA HARRIS', 'F', '64', 'PORTLAND', 'OR', '21:53', '1:07:51', '110 of 113', 'F 55+', '14 of 14', '1:19', '1:09:10']\n",
      "['188', '1085', 'EBONY LAWRENCE', 'F', '30', 'PORTLAND', 'OR', '22:00', '1:08:12', '111 of 113', 'F 21-39', '53 of 53', '0:58', '1:09:10']\n",
      "['189', '1170', 'ANTHONY WILLIAMS', 'M', '39', 'PORTLAND', 'OR', '22:19', '1:09:11', '78 of 78', 'M 21-39', '33 of 33', '0:08', '1:09:19']\n",
      "['190', '2087', 'LEESHA POSEY', 'F', '43', 'PORTLAND', 'OR', '30:17', '1:33:53', '112 of 113', 'F 40-54', '36 of 37', '0:00', '1:33:53']\n",
      "['191', '1216', 'ZULMA OCHOA', 'F', '40', 'GRESHAM', 'OR', '33:22', '1:43:27', '113 of 113', 'F 40-54', '37 of 37', '0:00', '1:43:27']\n"
     ]
    }
   ],
   "source": [
    "#cleaning data, removing '\\r' and '\\n' and spaces\n",
    "new_data = []\n",
    "for row in data:\n",
    "    dataRowNew=[]\n",
    "    for x in row:\n",
    "        str = \"\"\n",
    "        x = x.replace(\"\\r\",\"\").replace(\"\\n\",\"\").strip()\n",
    "        str = str.join(x)\n",
    "        dataRowNew.append(str)\n",
    "    print(dataRowNew)\n",
    "    new_data.append(dataRowNew)"
   ]
  },
  {
   "cell_type": "code",
   "execution_count": 123,
   "id": "adf99231-c97a-4e0c-8b7e-4cc36995265b",
   "metadata": {},
   "outputs": [
    {
     "name": "stdout",
     "output_type": "stream",
     "text": [
      "  0     1                        2  3   4           5   6     7      8   \\\n",
      "0  1  1191             MAX RANDOLPH  M  29  WASHINGTON  DC  5:25  16:48   \n",
      "1  2  1080  NEED NAME KAISER RUNNER  M  25    PORTLAND  OR  5:39  17:31   \n",
      "\n",
      "        9        10       11    12     13  \n",
      "0  1 of 78  M 21-39  1 of 33  0:08  16:56  \n",
      "1  2 of 78  M 21-39  2 of 33  0:09  17:40  \n",
      "      0     1             2  3   4         5   6      7        8           9   \\\n",
      "189  190  2087  LEESHA POSEY  F  43  PORTLAND  OR  30:17  1:33:53  112 of 113   \n",
      "190  191  1216   ZULMA OCHOA  F  40   GRESHAM  OR  33:22  1:43:27  113 of 113   \n",
      "\n",
      "          10        11    12       13  \n",
      "189  F 40-54  36 of 37  0:00  1:33:53  \n",
      "190  F 40-54  37 of 37  0:00  1:43:27  \n"
     ]
    }
   ],
   "source": [
    "new_data = new_data[5:]\n",
    "df = pd.DataFrame(new_data)\n",
    "print(df.head(2))\n",
    "print(df.tail(2))\n"
   ]
  },
  {
   "cell_type": "code",
   "execution_count": 124,
   "id": "3dc6d250-71ea-4d3d-8cfe-8d4d9707f1b8",
   "metadata": {},
   "outputs": [
    {
     "data": {
      "text/plain": [
       "[<th>Place</th>,\n",
       " <th>Bib</th>,\n",
       " <th>Name</th>,\n",
       " <th>Gender</th>,\n",
       " <th>Age</th>,\n",
       " <th>City</th>,\n",
       " <th>State</th>,\n",
       " <th>Chip Pace</th>,\n",
       " <th>Chip Time</th>,\n",
       " <th>Gender Place</th>,\n",
       " <th>Age Group</th>,\n",
       " <th>Age Group Place</th>,\n",
       " <th>Time to Start</th>,\n",
       " <th>Gun Time</th>]"
      ]
     },
     "execution_count": 124,
     "metadata": {},
     "output_type": "execute_result"
    }
   ],
   "source": [
    "#adding column headers\n",
    "col_headers = soup.find_all('th')\n",
    "col_headers"
   ]
  },
  {
   "cell_type": "code",
   "execution_count": 125,
   "id": "24432471-96f4-4e02-a7e3-250785581065",
   "metadata": {},
   "outputs": [
    {
     "name": "stdout",
     "output_type": "stream",
     "text": [
      "['Place', 'Bib', 'Name', 'Gender', 'Age', 'City', 'State', 'Chip Pace', 'Chip Time', 'Gender Place', 'Age Group', 'Age Group Place', 'Time to Start', 'Gun Time']\n"
     ]
    }
   ],
   "source": [
    "header_list = []\n",
    "for col in col_headers:\n",
    "    header_list.append(col.text)\n",
    "print(header_list)"
   ]
  },
  {
   "cell_type": "code",
   "execution_count": 126,
   "id": "75bc9301-de8f-4831-a556-4994f0d0fb49",
   "metadata": {},
   "outputs": [
    {
     "name": "stdout",
     "output_type": "stream",
     "text": [
      "  Place   Bib                     Name Gender Age        City State Chip Pace  \\\n",
      "0     1  1191             MAX RANDOLPH      M  29  WASHINGTON    DC      5:25   \n",
      "1     2  1080  NEED NAME KAISER RUNNER      M  25    PORTLAND    OR      5:39   \n",
      "2     3  1275               DAN FRANEK      M  52    PORTLAND    OR      5:53   \n",
      "3     4  1223              PAUL TAYLOR      M  54    PORTLAND    OR      5:58   \n",
      "4     5  1245              THEO KINMAN      M  22                        6:17   \n",
      "\n",
      "  Chip Time Gender Place Age Group Age Group Place Time to Start Gun Time  \n",
      "0     16:48      1 of 78   M 21-39         1 of 33          0:08    16:56  \n",
      "1     17:31      2 of 78   M 21-39         2 of 33          0:09    17:40  \n",
      "2     18:15      3 of 78   M 40-54         1 of 27          0:07    18:22  \n",
      "3     18:31      4 of 78   M 40-54         2 of 27          0:07    18:38  \n",
      "4     19:31      5 of 78   M 21-39         3 of 33          0:09    19:40  \n"
     ]
    }
   ],
   "source": [
    "df.columns = header_list\n",
    "print(df.head())"
   ]
  },
  {
   "cell_type": "code",
   "execution_count": 127,
   "id": "53aa4d4f-4c90-437a-9626-7e9bae67f536",
   "metadata": {},
   "outputs": [
    {
     "name": "stdout",
     "output_type": "stream",
     "text": [
      "<class 'pandas.core.frame.DataFrame'>\n",
      "RangeIndex: 191 entries, 0 to 190\n",
      "Data columns (total 14 columns):\n",
      " #   Column           Non-Null Count  Dtype \n",
      "---  ------           --------------  ----- \n",
      " 0   Place            191 non-null    object\n",
      " 1   Bib              191 non-null    object\n",
      " 2   Name             191 non-null    object\n",
      " 3   Gender           191 non-null    object\n",
      " 4   Age              191 non-null    object\n",
      " 5   City             191 non-null    object\n",
      " 6   State            191 non-null    object\n",
      " 7   Chip Pace        191 non-null    object\n",
      " 8   Chip Time        191 non-null    object\n",
      " 9   Gender Place     191 non-null    object\n",
      " 10  Age Group        191 non-null    object\n",
      " 11  Age Group Place  191 non-null    object\n",
      " 12  Time to Start    191 non-null    object\n",
      " 13  Gun Time         191 non-null    object\n",
      "dtypes: object(14)\n",
      "memory usage: 21.0+ KB\n"
     ]
    }
   ],
   "source": [
    "df.info()"
   ]
  },
  {
   "cell_type": "code",
   "execution_count": 128,
   "id": "81cc6131-d597-4306-890d-113e9a2d8a35",
   "metadata": {},
   "outputs": [
    {
     "data": {
      "text/plain": [
       "(191, 14)"
      ]
     },
     "execution_count": 128,
     "metadata": {},
     "output_type": "execute_result"
    }
   ],
   "source": [
    "df.shape"
   ]
  },
  {
   "cell_type": "code",
   "execution_count": 129,
   "id": "165ad90b-dfe8-4bd1-b132-01fb3144d43f",
   "metadata": {},
   "outputs": [
    {
     "data": {
      "text/plain": [
       "(191, 14)"
      ]
     },
     "execution_count": 129,
     "metadata": {},
     "output_type": "execute_result"
    }
   ],
   "source": [
    "df2 = df.dropna(axis=0, how='any') #any row with null value\n",
    "df2.shape"
   ]
  },
  {
   "cell_type": "markdown",
   "id": "397fd69c-4ecb-492e-9c6b-a6868fec7283",
   "metadata": {},
   "source": [
    "### Analyzing the chip time\n",
    "Chip time is another way of saying \"net time,\" or the actual amount of time it takes a runner to go from the starting line of a race to the finish line."
   ]
  },
  {
   "cell_type": "code",
   "execution_count": 135,
   "id": "f0a75231-45f0-4a58-9d7d-9e227cd790d4",
   "metadata": {},
   "outputs": [
    {
     "name": "stdout",
     "output_type": "stream",
     "text": [
      "0    00:16:48\n",
      "1    00:17:31\n",
      "2    00:18:15\n",
      "3    00:18:31\n",
      "4    00:19:31\n",
      "Name: Chip Time, dtype: object\n"
     ]
    }
   ],
   "source": [
    "#Before converting chip time to datatime format we need to change the format to hh:mm:ss form for all cells\n",
    "r=0\n",
    "for ct in df2['Chip Time']:\n",
    "    if ct.count(':') == 1:\n",
    "        df2['Chip Time'][r] = \"00:\"+(df2['Chip Time'][r])\n",
    "    r=r+1\n",
    "print(df2['Chip Time'][:5])"
   ]
  },
  {
   "cell_type": "code",
   "execution_count": 140,
   "id": "77e8dd79-abc0-4674-ac77-bd627168b61b",
   "metadata": {},
   "outputs": [
    {
     "name": "stdout",
     "output_type": "stream",
     "text": [
      "<class 'pandas.core.frame.DataFrame'>\n",
      "RangeIndex: 191 entries, 0 to 190\n",
      "Data columns (total 1 columns):\n",
      " #   Column            Non-Null Count  Dtype  \n",
      "---  ------            --------------  -----  \n",
      " 0   ChipTime_minutes  191 non-null    float64\n",
      "dtypes: float64(1)\n",
      "memory usage: 1.6 KB\n",
      "\n",
      "\n",
      "\n",
      "0    16.800000\n",
      "1    17.516667\n",
      "2    18.250000\n",
      "3    18.516667\n",
      "4    19.516667\n",
      "Name: ChipTime_minutes, dtype: float64\n"
     ]
    }
   ],
   "source": [
    "df2['ChipTime_minutes'] = pd.to_timedelta(df2['Chip Time'])\n",
    "df2['ChipTime_minutes'] = df2['ChipTime_minutes'].astype('timedelta64[s]') / 60\n",
    "df2[['ChipTime_minutes']].info()\n",
    "print(\"\\n\\n\")\n",
    "print(df2['ChipTime_minutes'].head())"
   ]
  },
  {
   "cell_type": "code",
   "execution_count": 142,
   "id": "e9789129-d197-4a19-b6cc-f71e450bf089",
   "metadata": {},
   "outputs": [
    {
     "name": "stdout",
     "output_type": "stream",
     "text": [
      "    Gender  ChipTime_minutes\n",
      "186      F         67.850000\n",
      "187      F         68.200000\n",
      "188      M         69.183333\n",
      "189      F         93.883333\n",
      "190      F        103.450000\n"
     ]
    }
   ],
   "source": [
    "#comparing with genders\n",
    "print(df2[['Gender','ChipTime_minutes']].tail())"
   ]
  },
  {
   "cell_type": "code",
   "execution_count": 145,
   "id": "453b5615-a80b-401f-9860-f5ec1b5cbdd8",
   "metadata": {},
   "outputs": [
    {
     "data": {
      "text/plain": [
       "Text(0.5, 1.0, 'Comparison of average minutes run by male and female')"
      ]
     },
     "execution_count": 145,
     "metadata": {},
     "output_type": "execute_result"
    },
    {
     "data": {
      "image/png": "[encoded data removed]",
      "text/plain": [
       "<Figure size 432x288 with 1 Axes>"
      ]
     },
     "metadata": {
      "needs_background": "light"
     },
     "output_type": "display_data"
    }
   ],
   "source": [
    "plt.bar(df2['Gender'], df2['ChipTime_minutes'])\n",
    "plt.xlabel('Gender')\n",
    "plt.ylabel('ChipTime_minutes')\n",
    "plt.title(\"Comparison of average minutes run by male and female\")"
   ]
  },
  {
   "cell_type": "code",
   "execution_count": 146,
   "id": "1dbe16c4-d3da-4a34-8ce9-39e73235f06c",
   "metadata": {},
   "outputs": [
    {
     "data": {
      "text/html": [
       "<div>\n",
       "<style scoped>\n",
       "    .dataframe tbody tr th:only-of-type {\n",
       "        vertical-align: middle;\n",
       "    }\n",
       "\n",
       "    .dataframe tbody tr th {\n",
       "        vertical-align: top;\n",
       "    }\n",
       "\n",
       "    .dataframe thead th {\n",
       "        text-align: right;\n",
       "    }\n",
       "</style>\n",
       "<table border=\"1\" class=\"dataframe\">\n",
       "  <thead>\n",
       "    <tr style=\"text-align: right;\">\n",
       "      <th></th>\n",
       "      <th>ChipTime_minutes</th>\n",
       "    </tr>\n",
       "  </thead>\n",
       "  <tbody>\n",
       "    <tr>\n",
       "      <th>count</th>\n",
       "      <td>191.000000</td>\n",
       "    </tr>\n",
       "    <tr>\n",
       "      <th>mean</th>\n",
       "      <td>42.478185</td>\n",
       "    </tr>\n",
       "    <tr>\n",
       "      <th>std</th>\n",
       "      <td>14.903030</td>\n",
       "    </tr>\n",
       "    <tr>\n",
       "      <th>min</th>\n",
       "      <td>16.800000</td>\n",
       "    </tr>\n",
       "    <tr>\n",
       "      <th>25%</th>\n",
       "      <td>29.041667</td>\n",
       "    </tr>\n",
       "    <tr>\n",
       "      <th>50%</th>\n",
       "      <td>39.500000</td>\n",
       "    </tr>\n",
       "    <tr>\n",
       "      <th>75%</th>\n",
       "      <td>54.216667</td>\n",
       "    </tr>\n",
       "    <tr>\n",
       "      <th>max</th>\n",
       "      <td>103.450000</td>\n",
       "    </tr>\n",
       "  </tbody>\n",
       "</table>\n",
       "</div>"
      ],
      "text/plain": [
       "       ChipTime_minutes\n",
       "count        191.000000\n",
       "mean          42.478185\n",
       "std           14.903030\n",
       "min           16.800000\n",
       "25%           29.041667\n",
       "50%           39.500000\n",
       "75%           54.216667\n",
       "max          103.450000"
      ]
     },
     "execution_count": 146,
     "metadata": {},
     "output_type": "execute_result"
    }
   ],
   "source": [
    "df2.describe(include=[np.number])"
   ]
  },
  {
   "cell_type": "markdown",
   "id": "a2d3e88f-ed61-40b4-b36a-748b73c601dd",
   "metadata": {},
   "source": [
    "#### Obtaining descriptive stats on the data"
   ]
  },
  {
   "cell_type": "code",
   "execution_count": 147,
   "id": "e3c337fe-51f2-4da7-b859-e33fd1b5f293",
   "metadata": {},
   "outputs": [
    {
     "data": {
      "text/plain": [
       "<AxesSubplot:>"
      ]
     },
     "execution_count": 147,
     "metadata": {},
     "output_type": "execute_result"
    },
    {
     "data": {
      "image/png": "[encoded data removed]",
      "text/plain": [
       "<Figure size 432x288 with 1 Axes>"
      ]
     },
     "metadata": {
      "needs_background": "light"
     },
     "output_type": "display_data"
    }
   ],
   "source": [
    "df2.boxplot(column='ChipTime_minutes')"
   ]
  },
  {
   "cell_type": "code",
   "execution_count": 149,
   "id": "5d59f69f-a2c6-4f97-9fee-bb7fd87d43ed",
   "metadata": {},
   "outputs": [
    {
     "data": {
      "text/plain": [
       "Text(0, 0.5, 'Run time')"
      ]
     },
     "execution_count": 149,
     "metadata": {},
     "output_type": "execute_result"
    },
    {
     "data": {
      "image/png": "[encoded data removed]",
      "text/plain": [
       "<Figure size 432x288 with 1 Axes>"
      ]
     },
     "metadata": {
      "needs_background": "light"
     },
     "output_type": "display_data"
    }
   ],
   "source": [
    "df2.boxplot(column='ChipTime_minutes', by='Gender')\n",
    "plt.title('')\n",
    "plt.ylabel('Run time')"
   ]
  },
  {
   "cell_type": "markdown",
   "id": "ee67b6ca-ec24-406e-9c7b-6d8b5e2dc791",
   "metadata": {},
   "source": [
    "#### Comparing Chip time with age"
   ]
  },
  {
   "cell_type": "code",
   "execution_count": 153,
   "id": "92163ca8-40fc-413b-925a-cb19c8bbc125",
   "metadata": {},
   "outputs": [
    {
     "data": {
      "image/png": "[encoded data removed]",
      "text/plain": [
       "<Figure size 432x288 with 1 Axes>"
      ]
     },
     "metadata": {
      "needs_background": "light"
     },
     "output_type": "display_data"
    }
   ],
   "source": [
    "#age vs Chip time in minutes\n",
    "df2['Age_i'] = round(pd.to_numeric(df2['Age'], errors='coerce'))\n",
    "df2.dropna(how='any', inplace = True)\n",
    "\n",
    "plt.scatter(df2['ChipTime_minutes'], df2['Age_i'])\n",
    "plt.show()"
   ]
  }
 ],
 "metadata": {
  "kernelspec": {
   "display_name": "Python 3 (ipykernel)",
   "language": "python",
   "name": "python3"
  },
  "language_info": {
   "codemirror_mode": {
    "name": "ipython",
    "version": 3
   },
   "file_extension": ".py",
   "mimetype": "text/x-python",
   "name": "python",
   "nbconvert_exporter": "python",
   "pygments_lexer": "ipython3",
   "version": "3.9.12"
  }
 },
 "nbformat": 4,
 "nbformat_minor": 5
}
